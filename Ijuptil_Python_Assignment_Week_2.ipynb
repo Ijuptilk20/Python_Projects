{
 "cells": [
  {
   "cell_type": "markdown",
   "metadata": {},
   "source": [
    "## NAME: Ijuptil\n",
    "\n",
    "## SURNAME: Joseph Kwajighu\n"
   ]
  },
  {
   "cell_type": "markdown",
   "metadata": {},
   "source": [
    "## Week 2 Assignment "
   ]
  },
  {
   "cell_type": "markdown",
   "metadata": {},
   "source": [
    "## Question 1:"
   ]
  },
  {
   "cell_type": "markdown",
   "metadata": {},
   "source": [
    "Write a program that asks the user a number n and draws a right angle isosceles triangle of height\n",
    "n with stars."
   ]
  },
  {
   "cell_type": "code",
   "execution_count": 3,
   "metadata": {},
   "outputs": [
    {
     "name": "stdout",
     "output_type": "stream",
     "text": [
      "Enter number:7\n",
      "\n",
      "*******\n",
      " ******\n",
      "  *****\n",
      "   ****\n",
      "    ***\n",
      "     **\n",
      "      *\n"
     ]
    }
   ],
   "source": [
    "N = int(input(\"Enter number:\"))\n",
    "print()\n",
    "for n in range(N, 0, -1):\n",
    "    print((N-n) * ' ' + n * '*') "
   ]
  },
  {
   "cell_type": "markdown",
   "metadata": {},
   "source": [
    "## Question 2:"
   ]
  },
  {
   "cell_type": "markdown",
   "metadata": {},
   "source": [
    "The Fibonacci sequence is defined as $f_0 = f_1 = 1$ and $f_n = f_{n−1} +f_{n−2}$ for $n ≥ 2$. Write a program\n",
    "that takes an integer n and print the first n Fibonacci numbers."
   ]
  },
  {
   "cell_type": "code",
   "execution_count": 4,
   "metadata": {},
   "outputs": [
    {
     "name": "stdout",
     "output_type": "stream",
     "text": [
      "Enter the value of n: 8\n",
      "i\tf(i)\n",
      "\n",
      "0 \t 0\n",
      "1 \t 1\n",
      "2 \t 2\n",
      "3 \t 3\n",
      "4 \t 4\n",
      "5 \t 5\n",
      "6 \t 6\n",
      "7 \t 7\n"
     ]
    }
   ],
   "source": [
    "n = int(input(\"Enter the value of n: \"))\n",
    "print(\"i\\tf(i)\\n\")\n",
    "f_0 = 0\n",
    "f_1 = 1\n",
    "sum = 0\n",
    "count = 1\n",
    "for i in range(n):\n",
    "    print(i, \"\\t\", sum)\n",
    "    count += 1\n",
    "    f_0 = f_1\n",
    "    f_0 = sum\n",
    "    sum = f_0 + f_1"
   ]
  },
  {
   "cell_type": "markdown",
   "metadata": {},
   "source": [
    "## Question 3:  "
   ]
  },
  {
   "cell_type": "markdown",
   "metadata": {},
   "source": [
    "The function $f_t(x) = e^{−(x−3t)^2}sin(3π(x − t))$ describes, for a fixed value of t a wave function. Write a program that draw $f_t$ on a 2x3 grid on the interval $[−6, 6]$ for t = −3, −2, −1, 0, 1, 2. Decorate your graph as much as you can to make it looks visually appealing (provide e.g. axis labels, title, legend, use different colors, specify line width, legend fontsize, etc.). Briefly comment your visualization."
   ]
  },
  {
   "cell_type": "code",
   "execution_count": 6,
   "metadata": {},
   "outputs": [
    {
     "data": {
      "image/png": "[encoded data removed]",
      "text/plain": [
       "<Figure size 432x288 with 6 Axes>"
      ]
     },
     "metadata": {
      "needs_background": "light"
     },
     "output_type": "display_data"
    }
   ],
   "source": [
    "\n",
    "import matplotlib.pyplot as plt     # for plotting\n",
    "import numpy as np                  # for working with arrays\n",
    "\n",
    "x = np.linspace(-6, 7)\n",
    "fx1 = np.exp(-(x+9)**2)*np.sin(3*np.pi*(x+3))  # for t = -3\n",
    "fx2 = np.exp(-(x+6)**2)*np.sin(3*np.pi*(x+2))   # for t = -2\n",
    "fx3 = np.exp(-(x+3)**2)*np.sin(3*np.pi*(x+1))   # for t = -1\n",
    "fx4 = np.exp(-(x)**2)*np.sin(3*np.pi*(x))       # for t = 0\n",
    "fx5 = np.exp(-(x-3)**2)*np.sin(3*np.pi*(x-1))   # for t = 1\n",
    "fx6 = np.exp(-(x-6)**2)*np.sin(3*np.pi*(x-2))   # for t = 2\n",
    "\n",
    "plt.subplot(2,3,1)\n",
    "plt.plot(x,fx1,color='m')\n",
    "plt.xlabel('x')\n",
    "plt.ylabel('$f_1$')\n",
    "plt.legend(['$t=-3$'])\n",
    "plt.title(\"Wave function\")\n",
    "\n",
    "\n",
    "plt.subplot(2,3,2)\n",
    "plt.plot(x,fx2,color='k')\n",
    "plt.xlabel('x')\n",
    "plt.ylabel('$f_2$')\n",
    "plt.legend(['$t=-2$'])\n",
    "plt.title(\"Wave function\")\n",
    "\n",
    "plt.subplot(2,3,3)\n",
    "plt.plot(x,fx3,color='blue')\n",
    "plt.xlabel('x')\n",
    "plt.ylabel('$f_3$')\n",
    "plt.legend(['$t=-1$'])\n",
    "plt.title(\"Wave function\")\n",
    "\n",
    "plt.subplot(2,3,4)\n",
    "plt.plot(x,fx4,color='cyan')\n",
    "plt.xlabel('x')\n",
    "plt.ylabel('$f_4$')\n",
    "plt.legend(['$t=0$'])\n",
    "plt.title(\"Wave function\")\n",
    "\n",
    "plt.subplot(2,3,5)\n",
    "plt.plot(x,fx5,color='green')\n",
    "plt.xlabel('x')\n",
    "plt.ylabel('$f_5$')\n",
    "plt.legend(['$t=1$'])\n",
    "plt.title(\"Wave function\")\n",
    "\n",
    "\n",
    "plt.subplot(2,3,6)\n",
    "plt.plot(x,fx6,color='red')\n",
    "plt.xlabel('x')\n",
    "plt.ylabel('$f_6$')\n",
    "plt.legend(['$t=2$'])\n",
    "plt.title(\"Wave function\")\n",
    "     \n",
    "plt.ion()\n",
    "plt.show()\n",
    "\n",
    "# Comment: The Figures below show the plot of f(x) and x at different values\n",
    "# of t. It was observed that the wave varies with time, t. As the time keep \n",
    "# on increasing the wave will continue to shift to the right from the origin.\n",
    "# Similarly, if the time continue to decrease, the wave will continue to shift\n",
    "# to the left from the origin.\n",
    "    "
   ]
  },
  {
   "cell_type": "markdown",
   "metadata": {},
   "source": [
    "## Question 4"
   ]
  },
  {
   "cell_type": "code",
   "execution_count": 7,
   "metadata": {},
   "outputs": [
    {
     "name": "stdout",
     "output_type": "stream",
     "text": [
      "Enter the set of (x,y) values to be generated:6\n",
      "Number of Arrow Throws inside the circle =  0\n",
      "Number of Arrow Throws inside the circle =  0\n",
      "Number of Arrow Throws inside the circle =  1\n",
      "Number of Arrow Throws inside the circle =  1\n",
      "Number of Arrow Throws inside the circle =  0\n",
      "Number of Arrow Throws inside the circle =  0\n"
     ]
    }
   ],
   "source": [
    "#(a) Write a program that asks the user to input a large number N and use an appropriate random\n",
    "#    number generator function to generate N points (xi, yi) inside the square.\n",
    "from random import *\n",
    "import math as m \n",
    "import numpy as np\n",
    "# Let n be the number of random numbers inside the quarter of the circle\n",
    "# with length unit length and N be the total number of random numbers generated\n",
    "# with length unit length and N be the total number of random numbers generated\n",
    "n = 0 \n",
    "N = int(input(\"Enter the set of (x,y) values to be generated:\"))\n",
    "for i in range(N):\n",
    "    arrowthrow = []\n",
    "    x = random()\n",
    "    y = random()\n",
    "    arrowthrow.append((x, y))\n",
    "    if x**2+y**2 <=1: # check if the x random and y random are within the boundary of the quarter circle\n",
    "        n = n +1       # if the loop exit m will be total number of points with the circle\n",
    "    count = 0\n",
    "    for xCord, yCord in arrowthrow:\n",
    "        if(m.pow((xCord - 0),1) + m.pow((yCord - 0),1) <= m.pow(1.0,1)):\n",
    "            count += 1\n",
    "        print(\"Number of Arrow Throws inside the circle = \", count)            \n",
    "\n",
    "# xCord is the x coordinate: In line 20: we (x-0)^2 at radius 1\n",
    "# yCord is the y coordinate: In line 20: (y-0)^2 at radius 1"
   ]
  },
  {
   "cell_type": "markdown",
   "metadata": {},
   "source": [
    "(c) Show that the probability p that a point falls within the circle is given by\n",
    "\n",
    "$$p =\\dfrac{A_c}{A_s}$$\n",
    "\n",
    "where $A_c$ and $A_s$ are the areas of the circle and the square respectively.\n",
    "\n",
    "Solution: By definition, the probability $p$ of the points that falls in the circle is the fraction of the area of the square which lies in side the circle. I.e., \n",
    "\n",
    "$$p =\\dfrac{area \\, of \\, circle}{area \\, of \\, square}$$\n",
    "\n",
    "This gives,   $p =\\dfrac{A_c}{A_s}$"
   ]
  },
  {
   "cell_type": "markdown",
   "metadata": {},
   "source": [
    "(d) Verify that $p =\\dfrac{\\pi}{4}$\n",
    "\n",
    "Solution: We know that\n",
    "$$p =\\dfrac{area \\, of \\, circle}{area \\, of \\, square}$$\n",
    "\n",
    "$$p =\\dfrac{A_c}{A_s} = \\dfrac{\\pi r^2}{4r^2} $$\n",
    "\n",
    "\n",
    "Divinding through by $r^2,$ we obtain\n",
    "$$p =\\dfrac{\\pi}{4}$$"
   ]
  },
  {
   "cell_type": "markdown",
   "metadata": {},
   "source": [
    "(e) Derive that $\\pi =\\dfrac{4n}{N}$\n",
    "\n",
    "Solution: In simulation we keep throwing the arrorw at random unto the circle. This will results to a probalility proplem. Let $n$ be the number of random numbers inside the quarter of the circle with length unit length and $N$ be the total number of random numbers generated. Then, \n",
    "\n",
    "$$\\dfrac{number \\, of \\, arrows \\, that \\, fall \\, insde \\, the \\, circle}{total \\, number \\, of \\, arrows} =$$\n",
    "\n",
    "$$\\dfrac{area \\, of \\, quater \\, of \\, circle}{area \\, of \\, square \\, with \\, units \\, sides}$$\n",
    "\n",
    "Thus, \n",
    "\n",
    "$$\\dfrac{n}{N}= \\dfrac{\\pi r^2}{4r^2}$$\n",
    "\n",
    "$$n4r^2 = N \\pi r^2$$\n",
    "\n",
    "Divinding through by $ Nr^2,$ we obtain\n",
    "\n",
    "$$\\pi =\\dfrac{4n}{N}$$\n",
    "\n",
    "as required."
   ]
  },
  {
   "cell_type": "markdown",
   "metadata": {},
   "source": [
    "(f) For N = 100000, derive an estimate of $\\pi$"
   ]
  },
  {
   "cell_type": "code",
   "execution_count": 2,
   "metadata": {},
   "outputs": [
    {
     "name": "stdout",
     "output_type": "stream",
     "text": [
      "pi 3.14032\n"
     ]
    }
   ],
   "source": [
    "from random import *\n",
    "import math as m \n",
    "import numpy as np\n",
    "# Let n be the number of random numbers inside the quarter of the circle\n",
    "# with length unit length and N be the total number of random numbers generated\n",
    "n = 0 \n",
    "N = 100000\n",
    "for i in range(N):\n",
    "    x = random()\n",
    "    y = random()\n",
    "    if x**2+y**2 <=1: # check if the x random and y random are within the boundary of the quarter circle\n",
    "        n = n +1       # if the loop exit m will be total number of points with the circle\n",
    "print(\"pi\", 4.0*n/N)\n",
    " "
   ]
  },
  {
   "cell_type": "markdown",
   "metadata": {},
   "source": [
    "## Question 5: "
   ]
  },
  {
   "cell_type": "code",
   "execution_count": 1,
   "metadata": {},
   "outputs": [
    {
     "name": "stdout",
     "output_type": "stream",
     "text": [
      "Enter N: 6\n",
      "integral 0.28822157225446243\n",
      "integral 0.28822157225446243\n",
      "integral 0.5764431445089249\n",
      "integral 0.8646647167633873\n",
      "integral 1.1528862890178497\n",
      "integral 1.1528862890178497\n"
     ]
    }
   ],
   "source": [
    "from random import *\n",
    "import numpy as np\n",
    "\n",
    "    \n",
    "f =lambda x: np.exp(-x**2/2)\n",
    "\n",
    "a = 0 # lower limit of the integration\n",
    "b = 2 # upper limit of the integration\n",
    "\n",
    "N = int(input(\"Enter N: \")) # Number of points to be included\n",
    "x = np.linspace(a, b, N)     #  To generate an array between lower and upper limits\n",
    "y = f(x)           # To generate corresponding value for f(x)\n",
    "ymin = min(y)      # we use y in line 14 to calculate ymax and ymin\n",
    "ymax = max(y)      \n",
    "m =0 \n",
    "area = np.fabs(a-b)*np.fabs(ymax-ymin)  # area of the rectangle to be calculated after using Monte Carlo Method\n",
    "\n",
    "for i in range(N):\n",
    "    xrand = a+ (b-a)*random()\n",
    "    yrand =ymin + (ymax-ymin)*random()\n",
    "    if abs(yrand) <= abs(f(xrand)):\n",
    "        if f(xrand)>0 and yrand > 0:\n",
    "            m = m+1\n",
    "        if f(xrand) < 0 and yrand < 0:\n",
    "            m = m-1                 # m is the total number of points under the curve\n",
    "    print(\"integral\", area*m/N)     # To print the estimate the integral\n",
    "\n",
    "     "
   ]
  },
  {
   "cell_type": "code",
   "execution_count": null,
   "metadata": {},
   "outputs": [],
   "source": []
  }
 ],
 "metadata": {
  "kernelspec": {
   "display_name": "Python 3",
   "language": "python",
   "name": "python3"
  },
  "language_info": {
   "codemirror_mode": {
    "name": "ipython",
    "version": 3
   },
   "file_extension": ".py",
   "mimetype": "text/x-python",
   "name": "python",
   "nbconvert_exporter": "python",
   "pygments_lexer": "ipython3",
   "version": "3.7.3"
  }
 },
 "nbformat": 4,
 "nbformat_minor": 2
}
